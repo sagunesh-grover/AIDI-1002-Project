{
 "cells": [
  {
   "cell_type": "code",
   "execution_count": 22,
   "metadata": {},
   "outputs": [
    {
     "name": "stdout",
     "output_type": "stream",
     "text": [
      "Populating the interactive namespace from numpy and matplotlib\n"
     ]
    }
   ],
   "source": [
    "# Importing the necessary modules \n",
    "%pylab inline\n",
    "import matplotlib.pyplot as plt\n",
    "import matplotlib.image as mpimg\n",
    "import csv\n",
    "import glob\n",
    "import pandas as pd\n",
    "import os \n",
    "import cv2 \n",
    "import numpy as np \n",
    "import tensorflow as tf  \n",
    "from sklearn.preprocessing import StandardScaler\n",
    "from tensorflow.keras.preprocessing.image import ImageDataGenerator \n",
    "import seaborn as sns\n",
    "import scikitplot as skplt\n",
    "from sklearn.model_selection import train_test_split\n",
    "from sklearn.ensemble import RandomForestClassifier, AdaBoostClassifier\n",
    "from sklearn.neighbors import KNeighborsClassifier\n",
    "from sklearn.linear_model import LogisticRegression\n",
    "from sklearn import svm\n",
    "from sklearn.metrics import classification_report,roc_auc_score\n",
    "from sklearn.model_selection import train_test_split, cross_val_score, learning_curve, GridSearchCV, RandomizedSearchCV\n",
    "import joblib"
   ]
  },
  {
   "cell_type": "markdown",
   "metadata": {},
   "source": [
    "# Reading DATA"
   ]
  },
  {
   "cell_type": "code",
   "execution_count": 16,
   "metadata": {},
   "outputs": [],
   "source": [
    "dataframe = pd.read_csv(\"dataset/data.csv\")"
   ]
  },
  {
   "cell_type": "markdown",
   "metadata": {},
   "source": [
    "# Feature Engineering and Model Training"
   ]
  },
  {
   "cell_type": "code",
   "execution_count": 17,
   "metadata": {},
   "outputs": [],
   "source": [
    "x = dataframe.drop([\"Label\"],axis=1)\n",
    "y = dataframe[\"Label\"]"
   ]
  },
  {
   "cell_type": "markdown",
   "metadata": {},
   "source": [
    "**Standardization**"
   ]
  },
  {
   "cell_type": "code",
   "execution_count": 18,
   "metadata": {},
   "outputs": [],
   "source": [
    "sc = StandardScaler()\n",
    "X_fit = sc.fit(x)\n",
    "X_std = X_fit.transform(x)"
   ]
  },
  {
   "cell_type": "code",
   "execution_count": 19,
   "metadata": {},
   "outputs": [
    {
     "data": {
      "text/plain": [
       "array([[-0.96066657, -0.5406147 , -0.33077592,  3.12189948, -0.15807181],\n",
       "       [-0.95315603,  1.21978094, -0.36269702, -0.21850617, -0.15807181],\n",
       "       [-0.9600205 , -0.51698341,  2.6620102 , -0.21850617, -0.15807181],\n",
       "       ...,\n",
       "       [-0.96381615,  1.23426756, -0.36269702, -0.21850617, -0.15807181],\n",
       "       [ 1.17281149, -0.56343112, -0.36269702, -0.21850617, -0.15807181],\n",
       "       [ 0.65902591, -0.56343112, -0.36269702, -0.21850617, -0.15807181]])"
      ]
     },
     "execution_count": 19,
     "metadata": {},
     "output_type": "execute_result"
    }
   ],
   "source": [
    "X_std"
   ]
  },
  {
   "cell_type": "markdown",
   "metadata": {},
   "source": [
    "**Train Test Spliting**"
   ]
  },
  {
   "cell_type": "code",
   "execution_count": 20,
   "metadata": {},
   "outputs": [],
   "source": [
    "x_train, x_test, y_train, y_test = train_test_split(X_std,y,test_size=0.2,random_state=42)"
   ]
  },
  {
   "cell_type": "markdown",
   "metadata": {},
   "source": [
    "**Logistic Regression Model Training**"
   ]
  },
  {
   "cell_type": "code",
   "execution_count": 24,
   "metadata": {},
   "outputs": [],
   "source": [
    "lr_model = LogisticRegression()\n",
    "lr_model.fit(x_train,y_train)\n",
    "lr_predictions = lr_model.predict(x_test)"
   ]
  },
  {
   "cell_type": "code",
   "execution_count": 27,
   "metadata": {},
   "outputs": [
    {
     "name": "stdout",
     "output_type": "stream",
     "text": [
      "              precision    recall  f1-score   support\n",
      "\n",
      " Parasitized       0.90      0.90      0.90      2786\n",
      "  Uninfected       0.90      0.90      0.90      2726\n",
      "\n",
      "    accuracy                           0.90      5512\n",
      "   macro avg       0.90      0.90      0.90      5512\n",
      "weighted avg       0.90      0.90      0.90      5512\n",
      "\n",
      "0.89822206095791\n"
     ]
    },
    {
     "data": {
      "text/plain": [
       "<AxesSubplot:title={'center':'Confusion Matrix'}, xlabel='Predicted label', ylabel='True label'>"
      ]
     },
     "execution_count": 27,
     "metadata": {},
     "output_type": "execute_result"
    },
    {
     "data": {
      "image/png": "[encoded data removed]",
      "text/plain": [
       "<Figure size 432x288 with 2 Axes>"
      ]
     },
     "metadata": {
      "needs_background": "light"
     },
     "output_type": "display_data"
    }
   ],
   "source": [
    "print(classification_report(lr_predictions,y_test))\n",
    "print(lr_model.score(x_test,y_test))\n",
    "skplt.metrics.plot_confusion_matrix(lr_predictions,y_test)"
   ]
  },
  {
   "cell_type": "markdown",
   "metadata": {},
   "source": [
    "**KNN Model Training**"
   ]
  },
  {
   "cell_type": "code",
   "execution_count": 28,
   "metadata": {},
   "outputs": [],
   "source": [
    "neigh = KNeighborsClassifier(n_neighbors=3)\n",
    "neigh.fit(x_train,y_train)\n",
    "knn_predictions = neigh.predict(x_test)"
   ]
  },
  {
   "cell_type": "code",
   "execution_count": 29,
   "metadata": {},
   "outputs": [
    {
     "name": "stdout",
     "output_type": "stream",
     "text": [
      "              precision    recall  f1-score   support\n",
      "\n",
      " Parasitized       0.87      0.89      0.88      2723\n",
      "  Uninfected       0.89      0.87      0.88      2789\n",
      "\n",
      "    accuracy                           0.88      5512\n",
      "   macro avg       0.88      0.88      0.88      5512\n",
      "weighted avg       0.88      0.88      0.88      5512\n",
      "\n",
      "0.8809869375907112\n"
     ]
    },
    {
     "data": {
      "text/plain": [
       "<AxesSubplot:title={'center':'Confusion Matrix'}, xlabel='Predicted label', ylabel='True label'>"
      ]
     },
     "execution_count": 29,
     "metadata": {},
     "output_type": "execute_result"
    },
    {
     "data": {
      "image/png": "[encoded data removed]",
      "text/plain": [
       "<Figure size 432x288 with 2 Axes>"
      ]
     },
     "metadata": {
      "needs_background": "light"
     },
     "output_type": "display_data"
    }
   ],
   "source": [
    "print(classification_report(knn_predictions,y_test))\n",
    "print(neigh.score(x_test,y_test))\n",
    "skplt.metrics.plot_confusion_matrix(knn_predictions,y_test)"
   ]
  },
  {
   "cell_type": "markdown",
   "metadata": {},
   "source": [
    "**SVM Model Training**"
   ]
  },
  {
   "cell_type": "code",
   "execution_count": 31,
   "metadata": {},
   "outputs": [],
   "source": [
    "svm_clf = svm.SVC()\n",
    "svm_clf.fit(x_train,y_train)\n",
    "svm_predictions = svm_clf.predict(x_test)"
   ]
  },
  {
   "cell_type": "code",
   "execution_count": 32,
   "metadata": {},
   "outputs": [
    {
     "name": "stdout",
     "output_type": "stream",
     "text": [
      "              precision    recall  f1-score   support\n",
      "\n",
      " Parasitized       0.89      0.90      0.90      2771\n",
      "  Uninfected       0.90      0.89      0.90      2741\n",
      "\n",
      "    accuracy                           0.90      5512\n",
      "   macro avg       0.90      0.90      0.90      5512\n",
      "weighted avg       0.90      0.90      0.90      5512\n",
      "\n",
      "0.897677793904209\n"
     ]
    },
    {
     "data": {
      "text/plain": [
       "<AxesSubplot:title={'center':'Confusion Matrix'}, xlabel='Predicted label', ylabel='True label'>"
      ]
     },
     "execution_count": 32,
     "metadata": {},
     "output_type": "execute_result"
    },
    {
     "data": {
      "image/png": "[encoded data removed]",
      "text/plain": [
       "<Figure size 432x288 with 2 Axes>"
      ]
     },
     "metadata": {
      "needs_background": "light"
     },
     "output_type": "display_data"
    }
   ],
   "source": [
    "print(classification_report(svm_predictions,y_test))\n",
    "print(svm_clf.score(x_test,y_test))\n",
    "skplt.metrics.plot_confusion_matrix(svm_predictions,y_test)"
   ]
  },
  {
   "cell_type": "markdown",
   "metadata": {},
   "source": [
    "**Random Forest Model Training**"
   ]
  },
  {
   "cell_type": "code",
   "execution_count": null,
   "metadata": {},
   "outputs": [],
   "source": [
    "model = RandomForestClassifier(n_estimators=100,max_depth=5)\n",
    "model.fit(x_train,y_train)\n",
    "predictions = model.predict(x_test)"
   ]
  },
  {
   "cell_type": "code",
   "execution_count": 35,
   "metadata": {},
   "outputs": [
    {
     "name": "stdout",
     "output_type": "stream",
     "text": [
      "              precision    recall  f1-score   support\n",
      "\n",
      " Parasitized       0.90      0.90      0.90      2772\n",
      "  Uninfected       0.90      0.89      0.90      2740\n",
      "\n",
      "    accuracy                           0.90      5512\n",
      "   macro avg       0.90      0.90      0.90      5512\n",
      "weighted avg       0.90      0.90      0.90      5512\n",
      "\n",
      "0.8989477503628447\n"
     ]
    },
    {
     "data": {
      "text/plain": [
       "<AxesSubplot:title={'center':'Confusion Matrix'}, xlabel='Predicted label', ylabel='True label'>"
      ]
     },
     "execution_count": 35,
     "metadata": {},
     "output_type": "execute_result"
    },
    {
     "data": {
      "image/png": "[encoded data removed]",
      "text/plain": [
       "<Figure size 432x288 with 2 Axes>"
      ]
     },
     "metadata": {
      "needs_background": "light"
     },
     "output_type": "display_data"
    }
   ],
   "source": [
    "print(metrics.classification_report(predictions,y_test))\n",
    "print(model.score(x_test,y_test))\n",
    "skplt.metrics.plot_confusion_matrix(predictions,y_test)"
   ]
  },
  {
   "cell_type": "markdown",
   "metadata": {},
   "source": [
    "# Hyper Parameter Tuning"
   ]
  },
  {
   "cell_type": "markdown",
   "metadata": {},
   "source": [
    "* K fold Cross Validation"
   ]
  },
  {
   "cell_type": "code",
   "execution_count": 42,
   "metadata": {},
   "outputs": [
    {
     "name": "stdout",
     "output_type": "stream",
     "text": [
      "\n",
      "              precision    recall  f1-score   support\n",
      "\n",
      " Parasitized       0.90      0.90      0.90      2797\n",
      "  Uninfected       0.89      0.90      0.90      2715\n",
      "\n",
      "    accuracy                           0.90      5512\n",
      "   macro avg       0.90      0.90      0.90      5512\n",
      "weighted avg       0.90      0.90      0.90      5512\n",
      "\n",
      "\n",
      "Average 5-Fold CV Score: 0.901841358301845 , Standard deviation: 0.005672235055241653\n"
     ]
    },
    {
     "data": {
      "text/plain": [
       "<AxesSubplot:title={'center':'Confusion Matrix'}, xlabel='Predicted label', ylabel='True label'>"
      ]
     },
     "execution_count": 42,
     "metadata": {},
     "output_type": "execute_result"
    },
    {
     "data": {
      "image/png": "[encoded data removed]",
      "text/plain": [
       "<Figure size 432x288 with 2 Axes>"
      ]
     },
     "metadata": {
      "needs_background": "light"
     },
     "output_type": "display_data"
    }
   ],
   "source": [
    "## 5-fold cross-validation \n",
    "rf_cv_scores =cross_val_score(model, x_train, y_train, cv=5)\n",
    "\n",
    "# Print the 5-fold cross-validation scores\n",
    "print()\n",
    "print(classification_report(y_test, predictions))\n",
    "print()\n",
    "print(\"Average 5-Fold CV Score: {}\".format(np.mean(rf_cv_scores)), \n",
    "      \", Standard deviation: {}\".format(np.std(rf_cv_scores)))\n",
    "skplt.metrics.plot_confusion_matrix(predictions,y_test)"
   ]
  },
  {
   "cell_type": "markdown",
   "metadata": {},
   "source": [
    "* Grid Search "
   ]
  },
  {
   "cell_type": "code",
   "execution_count": 61,
   "metadata": {},
   "outputs": [],
   "source": [
    "def run_the_rf_models(model, X_train, X_test, Y_tr, Y_te):\n",
    "    X_train_text_df, X_test_text_df, y_train, y_test = X_train, X_test, Y_tr, Y_te\n",
    "    \n",
    "    if model == 'rf1':\n",
    "        \n",
    "        rf_params = {\n",
    "            'n_estimators': [15, 24, 30],\n",
    "            'criterion': ['gini'],\n",
    "            'max_depth': [None, 5, 13, 21],\n",
    "            'bootstrap': [True, False],\n",
    "            'min_samples_split': [5, 7, 15, 25],\n",
    "            'max_features': [None, 'log2', 'auto', .10, .25, .50],\n",
    "            'warm_start': [True],\n",
    "            'random_state': [42]}\n",
    "        \n",
    "        M = GridSearchCV(RandomForestClassifier(),\n",
    "                        rf_params,\n",
    "                        cv = 5,\n",
    "                        verbose = 1,\n",
    "                        n_jobs = -1)\n",
    "        \n",
    "    elif model == 'rf2':\n",
    "        \n",
    "        rf_none_params = {\n",
    "            'n_estimators': [15, 24, 30],\n",
    "            'criterion': ['entropy'],\n",
    "            'max_depth': [None, 5, 13, 21],\n",
    "            'bootstrap': [True, False],\n",
    "            'min_samples_split': [5, 7, 15, 25],\n",
    "            'max_features': [None, 'log2', 'auto',  .10, .25, .50],\n",
    "            'warm_start': [True],\n",
    "            'random_state': [42]}\n",
    "        \n",
    "        M = GridSearchCV(RandomForestClassifier(),\n",
    "                        rf_none_params,\n",
    "                        cv = 5,\n",
    "                        verbose = 1,\n",
    "                        n_jobs = -1)\n",
    "        \n",
    "    else:\n",
    "        print('There is an error.')\n",
    "        \n",
    "    M.fit(X_train_text_df, y_train)\n",
    "    \n",
    "    #save in picle file\n",
    "    joblib.dump(M,\"rf_malaria_detector.pkl\")\n",
    "     \n",
    "    print(f'Train score = {M.score(X_train_text_df, y_train)}')\n",
    "    print(f'Test score = {M.score(X_test_text_df, y_test)}')\n",
    "    \n",
    "    predictions = M.predict(X_test_text_df)\n",
    "    predictions_train = M.predict(X_train_text_df)\n",
    "    \n",
    "    print('--------')\n",
    "    print(skplt.metrics.plot_confusion_matrix(y_test, predictions))\n",
    "    print(f'Best params = {M.best_params_}')\n",
    "    print('----F1 Score, Recall, Precision----')\n",
    "    # print precision, recall, F1-score per each class/tag\n",
    "    print(classification_report(y_test, predictions))\n",
    "    \n"
   ]
  },
  {
   "cell_type": "code",
   "execution_count": 63,
   "metadata": {},
   "outputs": [
    {
     "name": "stdout",
     "output_type": "stream",
     "text": [
      "Fitting 5 folds for each of 576 candidates, totalling 2880 fits\n"
     ]
    },
    {
     "name": "stderr",
     "output_type": "stream",
     "text": [
      "[Parallel(n_jobs=-1)]: Using backend LokyBackend with 8 concurrent workers.\n",
      "[Parallel(n_jobs=-1)]: Done  34 tasks      | elapsed:    9.4s\n",
      "[Parallel(n_jobs=-1)]: Done 184 tasks      | elapsed:   27.3s\n",
      "[Parallel(n_jobs=-1)]: Done 434 tasks      | elapsed:   53.9s\n",
      "[Parallel(n_jobs=-1)]: Done 784 tasks      | elapsed:  1.3min\n",
      "[Parallel(n_jobs=-1)]: Done 1234 tasks      | elapsed:  2.1min\n",
      "[Parallel(n_jobs=-1)]: Done 1784 tasks      | elapsed:  4.0min\n",
      "[Parallel(n_jobs=-1)]: Done 2434 tasks      | elapsed:  5.3min\n",
      "[Parallel(n_jobs=-1)]: Done 2880 out of 2880 | elapsed:  6.7min finished\n"
     ]
    },
    {
     "name": "stdout",
     "output_type": "stream",
     "text": [
      "Train score = 0.9177174997732015\n",
      "Test score = 0.897677793904209\n",
      "--------\n",
      "AxesSubplot(0.125,0.125;0.62x0.755)\n",
      "Best params = {'bootstrap': True, 'criterion': 'gini', 'max_depth': 13, 'max_features': 0.1, 'min_samples_split': 7, 'n_estimators': 30, 'random_state': 42, 'warm_start': True}\n",
      "----F1 Score, Recall, Precision----\n",
      "              precision    recall  f1-score   support\n",
      "\n",
      " Parasitized       0.91      0.89      0.90      2797\n",
      "  Uninfected       0.89      0.91      0.90      2715\n",
      "\n",
      "    accuracy                           0.90      5512\n",
      "   macro avg       0.90      0.90      0.90      5512\n",
      "weighted avg       0.90      0.90      0.90      5512\n",
      "\n"
     ]
    },
    {
     "data": {
      "image/png": "[encoded data removed]",
      "text/plain": [
       "<Figure size 432x288 with 2 Axes>"
      ]
     },
     "metadata": {
      "needs_background": "light"
     },
     "output_type": "display_data"
    }
   ],
   "source": [
    "run_the_rf_models(\"rf1\", x_train, x_test, y_train, y_test)"
   ]
  },
  {
   "cell_type": "code",
   "execution_count": 62,
   "metadata": {},
   "outputs": [
    {
     "name": "stdout",
     "output_type": "stream",
     "text": [
      "Fitting 5 folds for each of 576 candidates, totalling 2880 fits\n"
     ]
    },
    {
     "name": "stderr",
     "output_type": "stream",
     "text": [
      "[Parallel(n_jobs=-1)]: Using backend LokyBackend with 8 concurrent workers.\n",
      "[Parallel(n_jobs=-1)]: Done  34 tasks      | elapsed:    8.7s\n",
      "[Parallel(n_jobs=-1)]: Done 184 tasks      | elapsed:   39.5s\n",
      "[Parallel(n_jobs=-1)]: Done 434 tasks      | elapsed:  1.4min\n",
      "[Parallel(n_jobs=-1)]: Done 784 tasks      | elapsed:  1.9min\n",
      "[Parallel(n_jobs=-1)]: Done 1234 tasks      | elapsed:  3.2min\n",
      "[Parallel(n_jobs=-1)]: Done 1784 tasks      | elapsed:  6.2min\n",
      "[Parallel(n_jobs=-1)]: Done 2434 tasks      | elapsed:  7.9min\n",
      "[Parallel(n_jobs=-1)]: Done 2880 out of 2880 | elapsed: 10.1min finished\n"
     ]
    },
    {
     "name": "stdout",
     "output_type": "stream",
     "text": [
      "Train score = 0.909280595119296\n",
      "Test score = 0.8996734397677794\n",
      "--------\n",
      "AxesSubplot(0.125,0.125;0.62x0.755)\n",
      "Best params = {'bootstrap': True, 'criterion': 'entropy', 'max_depth': 13, 'max_features': 0.1, 'min_samples_split': 25, 'n_estimators': 30, 'random_state': 42, 'warm_start': True}\n",
      "----F1 Score, Recall, Precision----\n",
      "              precision    recall  f1-score   support\n",
      "\n",
      " Parasitized       0.91      0.89      0.90      2797\n",
      "  Uninfected       0.89      0.91      0.90      2715\n",
      "\n",
      "    accuracy                           0.90      5512\n",
      "   macro avg       0.90      0.90      0.90      5512\n",
      "weighted avg       0.90      0.90      0.90      5512\n",
      "\n"
     ]
    },
    {
     "data": {
      "image/png": "[encoded data removed]",
      "text/plain": [
       "<Figure size 432x288 with 2 Axes>"
      ]
     },
     "metadata": {
      "needs_background": "light"
     },
     "output_type": "display_data"
    }
   ],
   "source": [
    "run_the_rf_models(\"rf2\", x_train, x_test, y_train, y_test)"
   ]
  },
  {
   "cell_type": "markdown",
   "metadata": {},
   "source": [
    "# ML Classifier Comparison"
   ]
  },
  {
   "cell_type": "code",
   "execution_count": 46,
   "metadata": {},
   "outputs": [],
   "source": [
    "scores = [model.score(x_test,y_test),lr_model.score(x_test,y_test),svm_clf.score(x_test,y_test),neigh.score(x_test,y_test)]\n",
    "names = [\"Random Forest\",\"Logistic Regression\",\"SVM\",\"KNN\"]\n",
    "score_comparison = pd.DataFrame({'Name': names, 'Score': scores})"
   ]
  },
  {
   "cell_type": "code",
   "execution_count": 47,
   "metadata": {},
   "outputs": [
    {
     "data": {
      "text/html": [
       "<div>\n",
       "<style scoped>\n",
       "    .dataframe tbody tr th:only-of-type {\n",
       "        vertical-align: middle;\n",
       "    }\n",
       "\n",
       "    .dataframe tbody tr th {\n",
       "        vertical-align: top;\n",
       "    }\n",
       "\n",
       "    .dataframe thead th {\n",
       "        text-align: right;\n",
       "    }\n",
       "</style>\n",
       "<table border=\"1\" class=\"dataframe\">\n",
       "  <thead>\n",
       "    <tr style=\"text-align: right;\">\n",
       "      <th></th>\n",
       "      <th>Name</th>\n",
       "      <th>Score</th>\n",
       "    </tr>\n",
       "  </thead>\n",
       "  <tbody>\n",
       "    <tr>\n",
       "      <th>0</th>\n",
       "      <td>Random Forest</td>\n",
       "      <td>0.899673</td>\n",
       "    </tr>\n",
       "    <tr>\n",
       "      <th>1</th>\n",
       "      <td>Logistic Regression</td>\n",
       "      <td>0.898222</td>\n",
       "    </tr>\n",
       "    <tr>\n",
       "      <th>2</th>\n",
       "      <td>SVM</td>\n",
       "      <td>0.897678</td>\n",
       "    </tr>\n",
       "    <tr>\n",
       "      <th>3</th>\n",
       "      <td>KNN</td>\n",
       "      <td>0.880987</td>\n",
       "    </tr>\n",
       "  </tbody>\n",
       "</table>\n",
       "</div>"
      ],
      "text/plain": [
       "                  Name     Score\n",
       "0        Random Forest  0.899673\n",
       "1  Logistic Regression  0.898222\n",
       "2                  SVM  0.897678\n",
       "3                  KNN  0.880987"
      ]
     },
     "execution_count": 47,
     "metadata": {},
     "output_type": "execute_result"
    }
   ],
   "source": [
    "score_comparison"
   ]
  },
  {
   "cell_type": "code",
   "execution_count": 48,
   "metadata": {},
   "outputs": [
    {
     "data": {
      "image/png": "[encoded data removed]",
      "text/plain": [
       "<Figure size 720x432 with 1 Axes>"
      ]
     },
     "metadata": {
      "needs_background": "light"
     },
     "output_type": "display_data"
    }
   ],
   "source": [
    "plt.figure(figsize=(10,6)) \n",
    "axis = sns.barplot(x = 'Name', y = 'Score', data = score_comparison)\n",
    "axis.set(xlabel='Classifier', ylabel='Accuracy')\n",
    " \n",
    "for p in axis.patches:\n",
    "    height = p.get_height()\n",
    "    axis.text(p.get_x() + p.get_width()/2, height + 0.005, '{:1.4f}'.format(height), ha=\"center\") \n",
    "plt.show()"
   ]
  },
  {
   "cell_type": "markdown",
   "metadata": {},
   "source": [
    "**Hence We can clearly see Random Forest is the best out of all the ML models**"
   ]
  },
  {
   "cell_type": "markdown",
   "metadata": {},
   "source": [
    "# Saving the Model to Disk for Deployment in the Web APP"
   ]
  },
  {
   "cell_type": "code",
   "execution_count": 36,
   "metadata": {},
   "outputs": [
    {
     "name": "stdout",
     "output_type": "stream",
     "text": [
      "              precision    recall  f1-score   support\n",
      "\n",
      " Parasitized       0.89      0.91      0.90      2740\n",
      "  Uninfected       0.91      0.89      0.90      2772\n",
      "\n",
      "    accuracy                           0.90      5512\n",
      "   macro avg       0.90      0.90      0.90      5512\n",
      "weighted avg       0.90      0.90      0.90      5512\n",
      "\n",
      "0.8996734397677794\n"
     ]
    },
    {
     "data": {
      "text/plain": [
       "<AxesSubplot:title={'center':'Confusion Matrix'}, xlabel='Predicted label', ylabel='True label'>"
      ]
     },
     "execution_count": 36,
     "metadata": {},
     "output_type": "execute_result"
    },
    {
     "data": {
      "image/png": "[encoded data removed]",
      "text/plain": [
       "<Figure size 432x288 with 2 Axes>"
      ]
     },
     "metadata": {
      "needs_background": "light"
     },
     "output_type": "display_data"
    }
   ],
   "source": [
    "#saving model with best parameters after hyper parameter tunning \n",
    "#Best params = {'bootstrap': True, 'criterion': 'entropy', 'max_depth': 13, 'max_features': 0.1, 'min_samples_split': 25, 'n_estimators': 30, 'random_state': 42, 'warm_start': True}\n",
    "\n",
    "model = RandomForestClassifier(bootstrap= True, criterion= 'entropy', max_depth= 13, max_features= 0.1, min_samples_split= 25, n_estimators= 30, random_state= 42, warm_start= True)\n",
    "model.fit(x_train,y_train)\n",
    "predictions = model.predict(x_test)\n",
    "print(classification_report(predictions,y_test))\n",
    "print(model.score(x_test,y_test))\n",
    "skplt.metrics.plot_confusion_matrix(predictions,y_test)"
   ]
  },
  {
   "cell_type": "code",
   "execution_count": 38,
   "metadata": {},
   "outputs": [
    {
     "data": {
      "text/plain": [
       "['rf2_malaria_detector.pkl']"
      ]
     },
     "execution_count": 38,
     "metadata": {},
     "output_type": "execute_result"
    }
   ],
   "source": [
    "#SAVING IT TO DISK FOR DEPLOYMENT PURPOSE\n",
    "joblib.dump(model,\"rf2_malaria_detector.pkl\")"
   ]
  },
  {
   "cell_type": "markdown",
   "metadata": {},
   "source": [
    "# Web APP"
   ]
  },
  {
   "cell_type": "markdown",
   "metadata": {},
   "source": [
    "* Web App is Built using Flask\n",
    "* Its URL is https://malaria-detector-aidi1002.herokuapp.com/\n",
    "* In order to test the application, please upload the image(C33P1thinF_IMG_20150619_121229a_cell_177.png) from the project folder(4-Delivery & Acceptance\\Input_Cell_Images\\) of a Human cell and see the result of detection."
   ]
  }
 ],
 "metadata": {
  "kernelspec": {
   "display_name": "Python 3",
   "language": "python",
   "name": "python3"
  },
  "language_info": {
   "codemirror_mode": {
    "name": "ipython",
    "version": 3
   },
   "file_extension": ".py",
   "mimetype": "text/x-python",
   "name": "python",
   "nbconvert_exporter": "python",
   "pygments_lexer": "ipython3",
   "version": "3.8.5"
  }
 },
 "nbformat": 4,
 "nbformat_minor": 4
}
